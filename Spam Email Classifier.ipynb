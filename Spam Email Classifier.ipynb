{
 "cells": [
  {
   "cell_type": "code",
   "execution_count": 1,
   "id": "563cfc7b-a489-46ec-a6bc-2dc0adadefca",
   "metadata": {},
   "outputs": [
    {
     "name": "stdout",
     "output_type": "stream",
     "text": [
      "   the  to  ect  and  for  of    a  you  hou  in  ...  connevey  jay  valued  \\\n",
      "0    0   0    1    0    0   0    2    0    0   0  ...         0    0       0   \n",
      "1    8  13   24    6    6   2  102    1   27  18  ...         0    0       0   \n",
      "2    0   0    1    0    0   0    8    0    0   4  ...         0    0       0   \n",
      "3    0   5   22    0    5   1   51    2   10   1  ...         0    0       0   \n",
      "4    7   6   17    1    5   2   57    0    9   3  ...         0    0       0   \n",
      "\n",
      "   lay  infrastructure  military  allowing  ff  dry  Prediction  \n",
      "0    0               0         0         0   0    0           0  \n",
      "1    0               0         0         0   1    0           0  \n",
      "2    0               0         0         0   0    0           0  \n",
      "3    0               0         0         0   0    0           0  \n",
      "4    0               0         0         0   1    0           0  \n",
      "\n",
      "[5 rows x 3001 columns]\n",
      "Index(['the', 'to', 'ect', 'and', 'for', 'of', 'a', 'you', 'hou', 'in',\n",
      "       ...\n",
      "       'connevey', 'jay', 'valued', 'lay', 'infrastructure', 'military',\n",
      "       'allowing', 'ff', 'dry', 'Prediction'],\n",
      "      dtype='object', length=3001)\n",
      "<class 'pandas.core.frame.DataFrame'>\n",
      "RangeIndex: 5172 entries, 0 to 5171\n",
      "Columns: 3001 entries, the to Prediction\n",
      "dtypes: int64(3001)\n",
      "memory usage: 118.4 MB\n"
     ]
    }
   ],
   "source": [
    "import pandas as pd\n",
    "\n",
    "data = pd.read_csv('email.csv')\n",
    "print(data.head())\n",
    "print(data.columns)\n",
    "data.info()"
   ]
  },
  {
   "cell_type": "code",
   "execution_count": 2,
   "id": "8476efbf-c18d-4307-969e-3dea2140075f",
   "metadata": {},
   "outputs": [
    {
     "name": "stdout",
     "output_type": "stream",
     "text": [
      "the           0\n",
      "to            0\n",
      "ect           0\n",
      "and           0\n",
      "for           0\n",
      "             ..\n",
      "military      0\n",
      "allowing      0\n",
      "ff            0\n",
      "dry           0\n",
      "Prediction    0\n",
      "Length: 3001, dtype: int64\n"
     ]
    }
   ],
   "source": [
    "# Check for missing values\n",
    "print(data.isnull().sum())\n",
    "\n",
    "data = data.dropna() \n"
   ]
  },
  {
   "cell_type": "code",
   "execution_count": 3,
   "id": "ca363db5-540c-4869-90de-d56a838be859",
   "metadata": {},
   "outputs": [
    {
     "name": "stdout",
     "output_type": "stream",
     "text": [
      "Index(['the', 'to', 'ect', 'and', 'for', 'of', 'a', 'you', 'hou', 'in',\n",
      "       ...\n",
      "       'connevey', 'jay', 'valued', 'lay', 'infrastructure', 'military',\n",
      "       'allowing', 'ff', 'dry', 'Prediction'],\n",
      "      dtype='object', length=3001)\n"
     ]
    }
   ],
   "source": [
    "\n",
    "categorical_cols = data.select_dtypes(include=['object']).columns\n",
    "data = pd.get_dummies(data, columns=categorical_cols, drop_first=True)\n",
    "print(data.columns)\n"
   ]
  },
  {
   "cell_type": "code",
   "execution_count": 4,
   "id": "0f4b550d-79c5-40dc-91a7-3a7d4f97befb",
   "metadata": {},
   "outputs": [
    {
     "name": "stdout",
     "output_type": "stream",
     "text": [
      "Index(['the', 'to', 'ect', 'and', 'for', 'of', 'a', 'you', 'hou', 'in',\n",
      "       ...\n",
      "       'connevey', 'jay', 'valued', 'lay', 'infrastructure', 'military',\n",
      "       'allowing', 'ff', 'dry', 'Prediction'],\n",
      "      dtype='object', length=3001)\n"
     ]
    }
   ],
   "source": [
    "from sklearn.preprocessing import StandardScaler\n",
    "numerical_cols = data.select_dtypes(include=['int64', 'float64']).columns\n",
    "scaler = StandardScaler()\n",
    "data[numerical_cols] = scaler.fit_transform(data[numerical_cols])\n",
    "print(data.columns)"
   ]
  },
  {
   "cell_type": "code",
   "execution_count": 6,
   "id": "54200068-3c0d-46cb-a8e4-25c4aacee31b",
   "metadata": {},
   "outputs": [],
   "source": [
    "from sklearn.model_selection import train_test_split\n",
    "target = 'Prediction'  \n",
    "features = data.drop(columns=[target]).columns\n",
    "data[target] = pd.cut(data[target], bins=3, labels=[0, 1, 2])\n",
    "X_train, X_test, y_train, y_test = train_test_split(data[features], data[target], test_size=0.2, random_state=42)\n"
   ]
  },
  {
   "cell_type": "code",
   "execution_count": null,
   "id": "9a11a6a2-2dbe-4633-ac53-decb2f645815",
   "metadata": {},
   "outputs": [],
   "source": [
    "from sklearn.linear_model import LogisticRegression\n",
    "model = LogisticRegression()\n",
    "model.fit(X_train, y_train)"
   ]
  },
  {
   "cell_type": "code",
   "execution_count": 8,
   "id": "1eff2419-ad32-4f4c-bcfb-cce93dd6a414",
   "metadata": {},
   "outputs": [
    {
     "name": "stdout",
     "output_type": "stream",
     "text": [
      "Logistic Regression:\n",
      "Accuracy: 0.970048309178744\n",
      "Precision: 0.9709599796159312\n",
      "Recall: 0.970048309178744\n",
      "F1 Score: 0.9702648418107649\n"
     ]
    }
   ],
   "source": [
    "from sklearn.metrics import accuracy_score, precision_score, recall_score, f1_score\n",
    "\n",
    "def evaluate_model(model, X_test, y_test):\n",
    "    y_pred = model.predict(X_test)\n",
    "    accuracy = accuracy_score(y_test, y_pred)\n",
    "    precision = precision_score(y_test, y_pred, average='weighted')\n",
    "    recall = recall_score(y_test, y_pred, average='weighted')\n",
    "    f1 = f1_score(y_test, y_pred, average='weighted')\n",
    "    print(f'Accuracy: {accuracy}')\n",
    "    print(f'Precision: {precision}')\n",
    "    print(f'Recall: {recall}')\n",
    "    print(f'F1 Score: {f1}')\n",
    "\n",
    "print(\"Logistic Regression:\")\n",
    "evaluate_model(log_reg, X_test, y_test)\n"
   ]
  },
  {
   "cell_type": "code",
   "execution_count": 9,
   "id": "37166028-2a2d-4253-9d8b-4fa97301469b",
   "metadata": {},
   "outputs": [
    {
     "name": "stdout",
     "output_type": "stream",
     "text": [
      "Index(['the', 'to', 'ect', 'and', 'for', 'of', 'a', 'you', 'hou', 'in',\n",
      "       ...\n",
      "       'connevey', 'jay', 'valued', 'lay', 'infrastructure', 'military',\n",
      "       'allowing', 'ff', 'dry', 'Prediction'],\n",
      "      dtype='object', length=3001)\n",
      "Index(['the', 'to', 'ect', 'and', 'for', 'of', 'a', 'you', 'hou', 'in',\n",
      "       ...\n",
      "       'enhancements', 'connevey', 'jay', 'valued', 'lay', 'infrastructure',\n",
      "       'military', 'allowing', 'ff', 'dry'],\n",
      "      dtype='object', length=3000)\n",
      "Index(['the', 'to', 'ect', 'and', 'for', 'of', 'a', 'you', 'hou', 'in',\n",
      "       ...\n",
      "       'enhancements', 'connevey', 'jay', 'valued', 'lay', 'infrastructure',\n",
      "       'military', 'allowing', 'ff', 'dry'],\n",
      "      dtype='object', length=3000)\n"
     ]
    }
   ],
   "source": [
    "print(data.columns)  \n",
    "print(X_train.columns) \n",
    "print(X_test.columns)  "
   ]
  },
  {
   "cell_type": "code",
   "execution_count": null,
   "id": "0da676d8-5989-4446-a64f-2e0252c9b4df",
   "metadata": {},
   "outputs": [],
   "source": []
  }
 ],
 "metadata": {
  "kernelspec": {
   "display_name": "Python 3 (ipykernel)",
   "language": "python",
   "name": "python3"
  },
  "language_info": {
   "codemirror_mode": {
    "name": "ipython",
    "version": 3
   },
   "file_extension": ".py",
   "mimetype": "text/x-python",
   "name": "python",
   "nbconvert_exporter": "python",
   "pygments_lexer": "ipython3",
   "version": "3.11.7"
  }
 },
 "nbformat": 4,
 "nbformat_minor": 5
}
